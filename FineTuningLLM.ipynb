{
  "cells": [
    {
      "cell_type": "markdown",
      "metadata": {
        "id": "2AqPte8bet51"
      },
      "source": [
        "# Welcome to Learning about Fine Tuning a LLM"
      ]
    },
    {
      "cell_type": "markdown",
      "metadata": {
        "id": "1Rp80dTGpsDD"
      },
      "source": [
        "### Task 1 - Set up the project environment"
      ]
    },
    {
      "cell_type": "code",
      "execution_count": 1,
      "metadata": {
        "colab": {
          "base_uri": "https://localhost:8080/"
        },
        "id": "lx4wV2MIUJ8A",
        "outputId": "031321ca-b6ed-4c1c-b1d3-7ec45a4e6ff3"
      },
      "outputs": [
        {
          "name": "stdout",
          "output_type": "stream",
          "text": [
            "Collecting openai==1.7.2\n",
            "  Downloading openai-1.7.2-py3-none-any.whl (212 kB)\n",
            "\u001b[2K     \u001b[90m━━━━━━━━━━━━━━━━━━━━━━━━━━━━━━━━━━━━━━━━\u001b[0m \u001b[32m212.1/212.1 kB\u001b[0m \u001b[31m3.9 MB/s\u001b[0m eta \u001b[36m0:00:00\u001b[0m\n",
            "\u001b[?25hCollecting python-dotenv\n",
            "  Downloading python_dotenv-1.0.1-py3-none-any.whl (19 kB)\n",
            "Requirement already satisfied: anyio<5,>=3.5.0 in /usr/local/lib/python3.10/dist-packages (from openai==1.7.2) (3.7.1)\n",
            "Requirement already satisfied: distro<2,>=1.7.0 in /usr/lib/python3/dist-packages (from openai==1.7.2) (1.7.0)\n",
            "Collecting httpx<1,>=0.23.0 (from openai==1.7.2)\n",
            "  Downloading httpx-0.27.0-py3-none-any.whl (75 kB)\n",
            "\u001b[2K     \u001b[90m━━━━━━━━━━━━━━━━━━━━━━━━━━━━━━━━━━━━━━━━\u001b[0m \u001b[32m75.6/75.6 kB\u001b[0m \u001b[31m8.1 MB/s\u001b[0m eta \u001b[36m0:00:00\u001b[0m\n",
            "\u001b[?25hRequirement already satisfied: pydantic<3,>=1.9.0 in /usr/local/lib/python3.10/dist-packages (from openai==1.7.2) (2.7.4)\n",
            "Requirement already satisfied: sniffio in /usr/local/lib/python3.10/dist-packages (from openai==1.7.2) (1.3.1)\n",
            "Requirement already satisfied: tqdm>4 in /usr/local/lib/python3.10/dist-packages (from openai==1.7.2) (4.66.4)\n",
            "Requirement already satisfied: typing-extensions<5,>=4.7 in /usr/local/lib/python3.10/dist-packages (from openai==1.7.2) (4.12.2)\n",
            "Requirement already satisfied: idna>=2.8 in /usr/local/lib/python3.10/dist-packages (from anyio<5,>=3.5.0->openai==1.7.2) (3.7)\n",
            "Requirement already satisfied: exceptiongroup in /usr/local/lib/python3.10/dist-packages (from anyio<5,>=3.5.0->openai==1.7.2) (1.2.1)\n",
            "Requirement already satisfied: certifi in /usr/local/lib/python3.10/dist-packages (from httpx<1,>=0.23.0->openai==1.7.2) (2024.6.2)\n",
            "Collecting httpcore==1.* (from httpx<1,>=0.23.0->openai==1.7.2)\n",
            "  Downloading httpcore-1.0.5-py3-none-any.whl (77 kB)\n",
            "\u001b[2K     \u001b[90m━━━━━━━━━━━━━━━━━━━━━━━━━━━━━━━━━━━━━━━━\u001b[0m \u001b[32m77.9/77.9 kB\u001b[0m \u001b[31m8.5 MB/s\u001b[0m eta \u001b[36m0:00:00\u001b[0m\n",
            "\u001b[?25hCollecting h11<0.15,>=0.13 (from httpcore==1.*->httpx<1,>=0.23.0->openai==1.7.2)\n",
            "  Downloading h11-0.14.0-py3-none-any.whl (58 kB)\n",
            "\u001b[2K     \u001b[90m━━━━━━━━━━━━━━━━━━━━━━━━━━━━━━━━━━━━━━━━\u001b[0m \u001b[32m58.3/58.3 kB\u001b[0m \u001b[31m6.5 MB/s\u001b[0m eta \u001b[36m0:00:00\u001b[0m\n",
            "\u001b[?25hRequirement already satisfied: annotated-types>=0.4.0 in /usr/local/lib/python3.10/dist-packages (from pydantic<3,>=1.9.0->openai==1.7.2) (0.7.0)\n",
            "Requirement already satisfied: pydantic-core==2.18.4 in /usr/local/lib/python3.10/dist-packages (from pydantic<3,>=1.9.0->openai==1.7.2) (2.18.4)\n",
            "Installing collected packages: python-dotenv, h11, httpcore, httpx, openai\n",
            "Successfully installed h11-0.14.0 httpcore-1.0.5 httpx-0.27.0 openai-1.7.2 python-dotenv-1.0.1\n"
          ]
        }
      ],
      "source": [
        "!pip install openai==1.7.2 python-dotenv"
      ]
    },
    {
      "cell_type": "markdown",
      "metadata": {
        "id": "qypdUNULptjB"
      },
      "source": [
        "Importing modules"
      ]
    },
    {
      "cell_type": "code",
      "execution_count": 3,
      "metadata": {
        "colab": {
          "base_uri": "https://localhost:8080/"
        },
        "id": "YFmEp0r5T2eI",
        "outputId": "6f15ed95-8dc4-4c10-a42f-4e21ddcd813e"
      },
      "outputs": [
        {
          "name": "stdout",
          "output_type": "stream",
          "text": [
            "Modules are imported.\n"
          ]
        }
      ],
      "source": [
        "import pandas as pd\n",
        "import os, time\n",
        "from openai import OpenAI\n",
        "from dotenv import load_dotenv\n",
        "import json\n",
        "import matplotlib.pyplot as plt\n",
        "\n",
        "print(\"Modules are imported.\")"
      ]
    },
    {
      "cell_type": "markdown",
      "metadata": {
        "id": "XfVAcV_XqDja"
      },
      "source": [
        "Setting up the OpenAI API:\n",
        "\n",
        "* Prepare a .env file to store the OpenAI API key.\n",
        "* Uploading the .env file to our colab environment\n",
        "* Load the API key and setup the API"
      ]
    },
    {
      "cell_type": "markdown",
      "metadata": {
        "id": "rWxipGQIpxH8"
      },
      "source": [
        "Creating OpenAI Client"
      ]
    },
    {
      "cell_type": "code",
      "execution_count": 4,
      "metadata": {
        "id": "nHj-RaA5p0WE"
      },
      "outputs": [],
      "source": [
        "load_dotenv(\"apikey.env.txt\")\n",
        "APIKEY = os.getenv(\"APIKEY\")\n",
        "client = OpenAI(api_key=APIKEY)"
      ]
    },
    {
      "cell_type": "markdown",
      "metadata": {
        "id": "0r2XnfwnqTCK"
      },
      "source": [
        "### Task 2 - Prepare the training data"
      ]
    },
    {
      "cell_type": "markdown",
      "metadata": {
        "id": "-_Alc-CyuHmE"
      },
      "source": [
        "Loading the provided `Customer Complaints.csv`\n",
        "\n"
      ]
    },
    {
      "cell_type": "code",
      "execution_count": 5,
      "metadata": {
        "colab": {
          "base_uri": "https://localhost:8080/",
          "height": 424
        },
        "id": "jan2OKk5qW1J",
        "outputId": "28744ac9-f179-4f26-9db1-a66d4002007a"
      },
      "outputs": [
        {
          "data": {
            "application/vnd.google.colaboratory.intrinsic+json": {
              "summary": "{\n  \"name\": \"training_data\",\n  \"rows\": 67,\n  \"fields\": [\n    {\n      \"column\": \"Complaints\",\n      \"properties\": {\n        \"dtype\": \"string\",\n        \"num_unique_values\": 67,\n        \"samples\": [\n          \" Phone plan changed without consent! Unacceptable manipulation. Furious!\",\n          \" Charged for services not used! Unacceptable billing. Furious!\",\n          \" Internet speed slower than a snail! Can't stream or download anything. Frustrating!\"\n        ],\n        \"semantic_type\": \"\",\n        \"description\": \"\"\n      }\n    },\n    {\n      \"column\": \"Details\",\n      \"properties\": {\n        \"dtype\": \"string\",\n        \"num_unique_values\": 55,\n        \"samples\": [\n          \"{\\\"Topic\\\": \\\"Internet\\\", \\\"Problem\\\": \\\"Throttling\\\", \\\"Customer_Dissatisfaction_Index\\\": 85}\",\n          \"{\\\"Topic\\\": \\\"TV\\\", \\\"Problem\\\": \\\"Channels freezing\\\", \\\"Customer_Dissatisfaction_Index\\\": 85}\",\n          \"{\\\"Topic\\\": \\\"TV\\\", \\\"Problem\\\": \\\"Remote malfunction\\\", \\\"Customer_Dissatisfaction_Index\\\": 80}\"\n        ],\n        \"semantic_type\": \"\",\n        \"description\": \"\"\n      }\n    }\n  ]\n}",
              "type": "dataframe",
              "variable_name": "training_data"
            },
            "text/html": [
              "\n",
              "  <div id=\"df-6494aad8-8572-473c-b58a-71b9bb882fa2\" class=\"colab-df-container\">\n",
              "    <div>\n",
              "<style scoped>\n",
              "    .dataframe tbody tr th:only-of-type {\n",
              "        vertical-align: middle;\n",
              "    }\n",
              "\n",
              "    .dataframe tbody tr th {\n",
              "        vertical-align: top;\n",
              "    }\n",
              "\n",
              "    .dataframe thead th {\n",
              "        text-align: right;\n",
              "    }\n",
              "</style>\n",
              "<table border=\"1\" class=\"dataframe\">\n",
              "  <thead>\n",
              "    <tr style=\"text-align: right;\">\n",
              "      <th></th>\n",
              "      <th>Complaints</th>\n",
              "      <th>Details</th>\n",
              "    </tr>\n",
              "  </thead>\n",
              "  <tbody>\n",
              "    <tr>\n",
              "      <th>0</th>\n",
              "      <td>Unreliable internet! Sick of constant outages...</td>\n",
              "      <td>{\"Topic\": \"Internet\", \"Problem\": \"Unreliable s...</td>\n",
              "    </tr>\n",
              "    <tr>\n",
              "      <th>1</th>\n",
              "      <td>TV signal keeps dropping during crucial momen...</td>\n",
              "      <td>{\"Topic\": \"TV\", \"Problem\": \"Signal dropout\", \"...</td>\n",
              "    </tr>\n",
              "    <tr>\n",
              "      <th>2</th>\n",
              "      <td>Phone line always crackling! Can't hear a thi...</td>\n",
              "      <td>{\"Topic\": \"Phone\", \"Problem\": \"Crackling line\"...</td>\n",
              "    </tr>\n",
              "    <tr>\n",
              "      <th>3</th>\n",
              "      <td>Ridiculous prices for such terrible service! ...</td>\n",
              "      <td>{\"Topic\": \"Billing\", \"Problem\": \"Overcharged\",...</td>\n",
              "    </tr>\n",
              "    <tr>\n",
              "      <th>4</th>\n",
              "      <td>Internet speed slower than a snail! Can't str...</td>\n",
              "      <td>{\"Topic\": \"Internet\", \"Problem\": \"Slow speed\",...</td>\n",
              "    </tr>\n",
              "    <tr>\n",
              "      <th>...</th>\n",
              "      <td>...</td>\n",
              "      <td>...</td>\n",
              "    </tr>\n",
              "    <tr>\n",
              "      <th>62</th>\n",
              "      <td>Poor call quality during international calls! ...</td>\n",
              "      <td>{\"Topic\": \"Phone\", \"Problem\": \"Poor call quali...</td>\n",
              "    </tr>\n",
              "    <tr>\n",
              "      <th>63</th>\n",
              "      <td>Incorrect charges on my bill every month! Unre...</td>\n",
              "      <td>{\"Topic\": \"Billing\", \"Problem\": \"Incorrect cha...</td>\n",
              "    </tr>\n",
              "    <tr>\n",
              "      <th>64</th>\n",
              "      <td>This service is terrible! Can't believe I'm pa...</td>\n",
              "      <td>{\"Topic\": \"PulseNet General\", \"Problem\": \"Gene...</td>\n",
              "    </tr>\n",
              "    <tr>\n",
              "      <th>65</th>\n",
              "      <td>This product is a complete waste of money! Dis...</td>\n",
              "      <td>{\"Topic\": \"PulseNet General\", \"Problem\": \"Gene...</td>\n",
              "    </tr>\n",
              "    <tr>\n",
              "      <th>66</th>\n",
              "      <td>I am utterly fed up with this!</td>\n",
              "      <td>{\"Topic\": \"PulseNet General\", \"Problem\": \"Gene...</td>\n",
              "    </tr>\n",
              "  </tbody>\n",
              "</table>\n",
              "<p>67 rows × 2 columns</p>\n",
              "</div>\n",
              "    <div class=\"colab-df-buttons\">\n",
              "\n",
              "  <div class=\"colab-df-container\">\n",
              "    <button class=\"colab-df-convert\" onclick=\"convertToInteractive('df-6494aad8-8572-473c-b58a-71b9bb882fa2')\"\n",
              "            title=\"Convert this dataframe to an interactive table.\"\n",
              "            style=\"display:none;\">\n",
              "\n",
              "  <svg xmlns=\"http://www.w3.org/2000/svg\" height=\"24px\" viewBox=\"0 -960 960 960\">\n",
              "    <path d=\"M120-120v-720h720v720H120Zm60-500h600v-160H180v160Zm220 220h160v-160H400v160Zm0 220h160v-160H400v160ZM180-400h160v-160H180v160Zm440 0h160v-160H620v160ZM180-180h160v-160H180v160Zm440 0h160v-160H620v160Z\"/>\n",
              "  </svg>\n",
              "    </button>\n",
              "\n",
              "  <style>\n",
              "    .colab-df-container {\n",
              "      display:flex;\n",
              "      gap: 12px;\n",
              "    }\n",
              "\n",
              "    .colab-df-convert {\n",
              "      background-color: #E8F0FE;\n",
              "      border: none;\n",
              "      border-radius: 50%;\n",
              "      cursor: pointer;\n",
              "      display: none;\n",
              "      fill: #1967D2;\n",
              "      height: 32px;\n",
              "      padding: 0 0 0 0;\n",
              "      width: 32px;\n",
              "    }\n",
              "\n",
              "    .colab-df-convert:hover {\n",
              "      background-color: #E2EBFA;\n",
              "      box-shadow: 0px 1px 2px rgba(60, 64, 67, 0.3), 0px 1px 3px 1px rgba(60, 64, 67, 0.15);\n",
              "      fill: #174EA6;\n",
              "    }\n",
              "\n",
              "    .colab-df-buttons div {\n",
              "      margin-bottom: 4px;\n",
              "    }\n",
              "\n",
              "    [theme=dark] .colab-df-convert {\n",
              "      background-color: #3B4455;\n",
              "      fill: #D2E3FC;\n",
              "    }\n",
              "\n",
              "    [theme=dark] .colab-df-convert:hover {\n",
              "      background-color: #434B5C;\n",
              "      box-shadow: 0px 1px 3px 1px rgba(0, 0, 0, 0.15);\n",
              "      filter: drop-shadow(0px 1px 2px rgba(0, 0, 0, 0.3));\n",
              "      fill: #FFFFFF;\n",
              "    }\n",
              "  </style>\n",
              "\n",
              "    <script>\n",
              "      const buttonEl =\n",
              "        document.querySelector('#df-6494aad8-8572-473c-b58a-71b9bb882fa2 button.colab-df-convert');\n",
              "      buttonEl.style.display =\n",
              "        google.colab.kernel.accessAllowed ? 'block' : 'none';\n",
              "\n",
              "      async function convertToInteractive(key) {\n",
              "        const element = document.querySelector('#df-6494aad8-8572-473c-b58a-71b9bb882fa2');\n",
              "        const dataTable =\n",
              "          await google.colab.kernel.invokeFunction('convertToInteractive',\n",
              "                                                    [key], {});\n",
              "        if (!dataTable) return;\n",
              "\n",
              "        const docLinkHtml = 'Like what you see? Visit the ' +\n",
              "          '<a target=\"_blank\" href=https://colab.research.google.com/notebooks/data_table.ipynb>data table notebook</a>'\n",
              "          + ' to learn more about interactive tables.';\n",
              "        element.innerHTML = '';\n",
              "        dataTable['output_type'] = 'display_data';\n",
              "        await google.colab.output.renderOutput(dataTable, element);\n",
              "        const docLink = document.createElement('div');\n",
              "        docLink.innerHTML = docLinkHtml;\n",
              "        element.appendChild(docLink);\n",
              "      }\n",
              "    </script>\n",
              "  </div>\n",
              "\n",
              "\n",
              "<div id=\"df-9c0c2812-2376-4796-ab5f-dc60cb165e82\">\n",
              "  <button class=\"colab-df-quickchart\" onclick=\"quickchart('df-9c0c2812-2376-4796-ab5f-dc60cb165e82')\"\n",
              "            title=\"Suggest charts\"\n",
              "            style=\"display:none;\">\n",
              "\n",
              "<svg xmlns=\"http://www.w3.org/2000/svg\" height=\"24px\"viewBox=\"0 0 24 24\"\n",
              "     width=\"24px\">\n",
              "    <g>\n",
              "        <path d=\"M19 3H5c-1.1 0-2 .9-2 2v14c0 1.1.9 2 2 2h14c1.1 0 2-.9 2-2V5c0-1.1-.9-2-2-2zM9 17H7v-7h2v7zm4 0h-2V7h2v10zm4 0h-2v-4h2v4z\"/>\n",
              "    </g>\n",
              "</svg>\n",
              "  </button>\n",
              "\n",
              "<style>\n",
              "  .colab-df-quickchart {\n",
              "      --bg-color: #E8F0FE;\n",
              "      --fill-color: #1967D2;\n",
              "      --hover-bg-color: #E2EBFA;\n",
              "      --hover-fill-color: #174EA6;\n",
              "      --disabled-fill-color: #AAA;\n",
              "      --disabled-bg-color: #DDD;\n",
              "  }\n",
              "\n",
              "  [theme=dark] .colab-df-quickchart {\n",
              "      --bg-color: #3B4455;\n",
              "      --fill-color: #D2E3FC;\n",
              "      --hover-bg-color: #434B5C;\n",
              "      --hover-fill-color: #FFFFFF;\n",
              "      --disabled-bg-color: #3B4455;\n",
              "      --disabled-fill-color: #666;\n",
              "  }\n",
              "\n",
              "  .colab-df-quickchart {\n",
              "    background-color: var(--bg-color);\n",
              "    border: none;\n",
              "    border-radius: 50%;\n",
              "    cursor: pointer;\n",
              "    display: none;\n",
              "    fill: var(--fill-color);\n",
              "    height: 32px;\n",
              "    padding: 0;\n",
              "    width: 32px;\n",
              "  }\n",
              "\n",
              "  .colab-df-quickchart:hover {\n",
              "    background-color: var(--hover-bg-color);\n",
              "    box-shadow: 0 1px 2px rgba(60, 64, 67, 0.3), 0 1px 3px 1px rgba(60, 64, 67, 0.15);\n",
              "    fill: var(--button-hover-fill-color);\n",
              "  }\n",
              "\n",
              "  .colab-df-quickchart-complete:disabled,\n",
              "  .colab-df-quickchart-complete:disabled:hover {\n",
              "    background-color: var(--disabled-bg-color);\n",
              "    fill: var(--disabled-fill-color);\n",
              "    box-shadow: none;\n",
              "  }\n",
              "\n",
              "  .colab-df-spinner {\n",
              "    border: 2px solid var(--fill-color);\n",
              "    border-color: transparent;\n",
              "    border-bottom-color: var(--fill-color);\n",
              "    animation:\n",
              "      spin 1s steps(1) infinite;\n",
              "  }\n",
              "\n",
              "  @keyframes spin {\n",
              "    0% {\n",
              "      border-color: transparent;\n",
              "      border-bottom-color: var(--fill-color);\n",
              "      border-left-color: var(--fill-color);\n",
              "    }\n",
              "    20% {\n",
              "      border-color: transparent;\n",
              "      border-left-color: var(--fill-color);\n",
              "      border-top-color: var(--fill-color);\n",
              "    }\n",
              "    30% {\n",
              "      border-color: transparent;\n",
              "      border-left-color: var(--fill-color);\n",
              "      border-top-color: var(--fill-color);\n",
              "      border-right-color: var(--fill-color);\n",
              "    }\n",
              "    40% {\n",
              "      border-color: transparent;\n",
              "      border-right-color: var(--fill-color);\n",
              "      border-top-color: var(--fill-color);\n",
              "    }\n",
              "    60% {\n",
              "      border-color: transparent;\n",
              "      border-right-color: var(--fill-color);\n",
              "    }\n",
              "    80% {\n",
              "      border-color: transparent;\n",
              "      border-right-color: var(--fill-color);\n",
              "      border-bottom-color: var(--fill-color);\n",
              "    }\n",
              "    90% {\n",
              "      border-color: transparent;\n",
              "      border-bottom-color: var(--fill-color);\n",
              "    }\n",
              "  }\n",
              "</style>\n",
              "\n",
              "  <script>\n",
              "    async function quickchart(key) {\n",
              "      const quickchartButtonEl =\n",
              "        document.querySelector('#' + key + ' button');\n",
              "      quickchartButtonEl.disabled = true;  // To prevent multiple clicks.\n",
              "      quickchartButtonEl.classList.add('colab-df-spinner');\n",
              "      try {\n",
              "        const charts = await google.colab.kernel.invokeFunction(\n",
              "            'suggestCharts', [key], {});\n",
              "      } catch (error) {\n",
              "        console.error('Error during call to suggestCharts:', error);\n",
              "      }\n",
              "      quickchartButtonEl.classList.remove('colab-df-spinner');\n",
              "      quickchartButtonEl.classList.add('colab-df-quickchart-complete');\n",
              "    }\n",
              "    (() => {\n",
              "      let quickchartButtonEl =\n",
              "        document.querySelector('#df-9c0c2812-2376-4796-ab5f-dc60cb165e82 button');\n",
              "      quickchartButtonEl.style.display =\n",
              "        google.colab.kernel.accessAllowed ? 'block' : 'none';\n",
              "    })();\n",
              "  </script>\n",
              "</div>\n",
              "\n",
              "  <div id=\"id_29fb1c96-735c-4f73-a353-6a70034f8aff\">\n",
              "    <style>\n",
              "      .colab-df-generate {\n",
              "        background-color: #E8F0FE;\n",
              "        border: none;\n",
              "        border-radius: 50%;\n",
              "        cursor: pointer;\n",
              "        display: none;\n",
              "        fill: #1967D2;\n",
              "        height: 32px;\n",
              "        padding: 0 0 0 0;\n",
              "        width: 32px;\n",
              "      }\n",
              "\n",
              "      .colab-df-generate:hover {\n",
              "        background-color: #E2EBFA;\n",
              "        box-shadow: 0px 1px 2px rgba(60, 64, 67, 0.3), 0px 1px 3px 1px rgba(60, 64, 67, 0.15);\n",
              "        fill: #174EA6;\n",
              "      }\n",
              "\n",
              "      [theme=dark] .colab-df-generate {\n",
              "        background-color: #3B4455;\n",
              "        fill: #D2E3FC;\n",
              "      }\n",
              "\n",
              "      [theme=dark] .colab-df-generate:hover {\n",
              "        background-color: #434B5C;\n",
              "        box-shadow: 0px 1px 3px 1px rgba(0, 0, 0, 0.15);\n",
              "        filter: drop-shadow(0px 1px 2px rgba(0, 0, 0, 0.3));\n",
              "        fill: #FFFFFF;\n",
              "      }\n",
              "    </style>\n",
              "    <button class=\"colab-df-generate\" onclick=\"generateWithVariable('training_data')\"\n",
              "            title=\"Generate code using this dataframe.\"\n",
              "            style=\"display:none;\">\n",
              "\n",
              "  <svg xmlns=\"http://www.w3.org/2000/svg\" height=\"24px\"viewBox=\"0 0 24 24\"\n",
              "       width=\"24px\">\n",
              "    <path d=\"M7,19H8.4L18.45,9,17,7.55,7,17.6ZM5,21V16.75L18.45,3.32a2,2,0,0,1,2.83,0l1.4,1.43a1.91,1.91,0,0,1,.58,1.4,1.91,1.91,0,0,1-.58,1.4L9.25,21ZM18.45,9,17,7.55Zm-12,3A5.31,5.31,0,0,0,4.9,8.1,5.31,5.31,0,0,0,1,6.5,5.31,5.31,0,0,0,4.9,4.9,5.31,5.31,0,0,0,6.5,1,5.31,5.31,0,0,0,8.1,4.9,5.31,5.31,0,0,0,12,6.5,5.46,5.46,0,0,0,6.5,12Z\"/>\n",
              "  </svg>\n",
              "    </button>\n",
              "    <script>\n",
              "      (() => {\n",
              "      const buttonEl =\n",
              "        document.querySelector('#id_29fb1c96-735c-4f73-a353-6a70034f8aff button.colab-df-generate');\n",
              "      buttonEl.style.display =\n",
              "        google.colab.kernel.accessAllowed ? 'block' : 'none';\n",
              "\n",
              "      buttonEl.onclick = () => {\n",
              "        google.colab.notebook.generateWithVariable('training_data');\n",
              "      }\n",
              "      })();\n",
              "    </script>\n",
              "  </div>\n",
              "\n",
              "    </div>\n",
              "  </div>\n"
            ],
            "text/plain": [
              "                                           Complaints  \\\n",
              "0    Unreliable internet! Sick of constant outages...   \n",
              "1    TV signal keeps dropping during crucial momen...   \n",
              "2    Phone line always crackling! Can't hear a thi...   \n",
              "3    Ridiculous prices for such terrible service! ...   \n",
              "4    Internet speed slower than a snail! Can't str...   \n",
              "..                                                ...   \n",
              "62  Poor call quality during international calls! ...   \n",
              "63  Incorrect charges on my bill every month! Unre...   \n",
              "64  This service is terrible! Can't believe I'm pa...   \n",
              "65  This product is a complete waste of money! Dis...   \n",
              "66                     I am utterly fed up with this!   \n",
              "\n",
              "                                              Details  \n",
              "0   {\"Topic\": \"Internet\", \"Problem\": \"Unreliable s...  \n",
              "1   {\"Topic\": \"TV\", \"Problem\": \"Signal dropout\", \"...  \n",
              "2   {\"Topic\": \"Phone\", \"Problem\": \"Crackling line\"...  \n",
              "3   {\"Topic\": \"Billing\", \"Problem\": \"Overcharged\",...  \n",
              "4   {\"Topic\": \"Internet\", \"Problem\": \"Slow speed\",...  \n",
              "..                                                ...  \n",
              "62  {\"Topic\": \"Phone\", \"Problem\": \"Poor call quali...  \n",
              "63  {\"Topic\": \"Billing\", \"Problem\": \"Incorrect cha...  \n",
              "64  {\"Topic\": \"PulseNet General\", \"Problem\": \"Gene...  \n",
              "65  {\"Topic\": \"PulseNet General\", \"Problem\": \"Gene...  \n",
              "66  {\"Topic\": \"PulseNet General\", \"Problem\": \"Gene...  \n",
              "\n",
              "[67 rows x 2 columns]"
            ]
          },
          "execution_count": 5,
          "metadata": {},
          "output_type": "execute_result"
        }
      ],
      "source": [
        "training_data = pd.read_csv(\"Customer Complaints.csv\")\n",
        "training_data"
      ]
    },
    {
      "cell_type": "markdown",
      "metadata": {
        "id": "uIK863G-qvMN"
      },
      "source": [
        "**Converting the Complaints records to json**\n",
        "\n",
        "To be able to use the data for the fine-tuning purpose, we first need to convert each row of the dataframe into the following format:\n",
        "\n",
        "<pre>\n",
        "<code>\n",
        "{\n",
        "  <span style=\"color: blue;\">\"messages\"</span>: [\n",
        "    {\n",
        "      <span style=\"color: blue;\">\"role\"</span>: <span style=\"color: red;\">\"system\"</span>,\n",
        "      <span style=\"color: blue;\">\"content\"</span>: \"<span style=\"color: green;\">Providing context about the user's prompt.\n",
        "                  It may include information about the task,\n",
        "                  instructions, or background details relevant\n",
        "                  to the conversation.</span>\"\n",
        "    },\n",
        "    {\n",
        "      <span style=\"color: blue;\">\"role\"</span>: <span style=\"color: red;\">\"user\"</span>,\n",
        "      <span style=\"color: blue;\">\"content\"</span>: \"<span style=\"color: green;\">the prompt or input provided by the user,\n",
        "                  which typically initiates the conversation with the assistant.</span>\"\n",
        "    },\n",
        "    {\n",
        "      <span style=\"color: blue;\">\"role\"</span>: <span style=\"color: red;\">\"assistant\"</span>,\n",
        "      <span style=\"color: blue;\">\"content\"</span>: \"<span style=\"color: green;\">The desired response or output generated by\n",
        "                  the assistant in response to the user's prompt.</span>\"\n",
        "    }\n",
        "  ]\n",
        "}\n",
        "</code>\n",
        "</pre>\n",
        "\n",
        "Let's get started!"
      ]
    },
    {
      "cell_type": "markdown",
      "metadata": {
        "id": "fWVCfuvRjdXa"
      },
      "source": [
        "Let's define a method that get's a row of the dataframe and convert it into the json format"
      ]
    },
    {
      "cell_type": "code",
      "execution_count": 6,
      "metadata": {
        "id": "-tHnvRamq5NK"
      },
      "outputs": [],
      "source": [
        "def save_as_json(row):\n",
        "\n",
        "  system_content = \"\"\"\n",
        "      Given a customer complaint text, extract and return the following information in json (dict) format:\n",
        "      - Topic: The product/department that the customer has a complaint about.\n",
        "      - Problem: A two or three-word description of what exactly the problem is.\n",
        "      - Customer_Dissatisfaction_Index: is a number between 0 and 100 showing\n",
        "             how angry the customer is about the problem.\n",
        "  \"\"\"\n",
        "\n",
        "  formatted_data = {\n",
        "        \"messages\": [\n",
        "            {\"role\": \"system\", \"content\": system_content},\n",
        "            {\"role\": \"user\", \"content\": row.Complaints},\n",
        "            {\"role\": \"assistant\", \"content\": row.Details}\n",
        "        ]\n",
        "      }\n",
        "\n",
        "  with open(\"training_data.json\", \"a\") as json_file:\n",
        "        json.dump(formatted_data, json_file)\n",
        "        json_file.write(\"\\n\")"
      ]
    },
    {
      "cell_type": "markdown",
      "metadata": {
        "id": "K3haPgzI-ClF"
      },
      "source": [
        "Now let's use of this method to generate the `training_data.json`"
      ]
    },
    {
      "cell_type": "code",
      "execution_count": 7,
      "metadata": {
        "id": "LNOMxwSX8dE4"
      },
      "outputs": [],
      "source": [
        "for index, row in training_data.iterrows():\n",
        "  save_as_json(row)"
      ]
    },
    {
      "cell_type": "markdown",
      "metadata": {
        "id": "Jo9HFdW0jput"
      },
      "source": [
        "### Task 3 - Fine-tune GPT 3.5 based on our training data"
      ]
    },
    {
      "cell_type": "markdown",
      "metadata": {
        "id": "h4TMhzSNj4hH"
      },
      "source": [
        "Let's import the json file we prepared as our training data"
      ]
    },
    {
      "cell_type": "code",
      "execution_count": 8,
      "metadata": {
        "colab": {
          "base_uri": "https://localhost:8080/"
        },
        "id": "ExJ2cRU5-XtH",
        "outputId": "ddaf693b-7a2d-4975-c6e7-81e1e70d10f8"
      },
      "outputs": [
        {
          "data": {
            "text/plain": [
              "FileObject(id='file-L9AL1NNcRDaOjKc0fPJpvoOH', bytes=46722, created_at=1719158544, filename='training_data.json', object='file', purpose='fine-tune', status='processed', status_details=None)"
            ]
          },
          "execution_count": 8,
          "metadata": {},
          "output_type": "execute_result"
        }
      ],
      "source": [
        "data_file = client.files.create(\n",
        "    file = open(r\"training_data.json\", \"rb\"),\n",
        "    purpose = \"fine-tune\"\n",
        ")\n",
        "data_file"
      ]
    },
    {
      "cell_type": "markdown",
      "metadata": {
        "id": "TiBcO3I0kIU5"
      },
      "source": [
        "Create the Fine Tuning Job"
      ]
    },
    {
      "cell_type": "code",
      "execution_count": 9,
      "metadata": {
        "colab": {
          "base_uri": "https://localhost:8080/"
        },
        "id": "BXJB348zkMSx",
        "outputId": "295446cb-9357-4b2a-b1b6-2ca51e7789e6"
      },
      "outputs": [
        {
          "data": {
            "text/plain": [
              "FineTuningJob(id='ftjob-vkALK0VbEe1iLlBt4kgxs6sw', created_at=1719158562, error=Error(code=None, message=None, param=None), fine_tuned_model=None, finished_at=None, hyperparameters=Hyperparameters(n_epochs=1, batch_size='auto', learning_rate_multiplier='auto'), model='gpt-3.5-turbo-0125', object='fine_tuning.job', organization_id='org-g3gtjfvCxGWSAcqG4QfXdvkR', result_files=[], status='validating_files', trained_tokens=None, training_file='file-L9AL1NNcRDaOjKc0fPJpvoOH', validation_file=None, user_provided_suffix=None, seed=95727310, estimated_finish=None, integrations=[])"
            ]
          },
          "execution_count": 9,
          "metadata": {},
          "output_type": "execute_result"
        }
      ],
      "source": [
        "fine_tuning_job = client.fine_tuning.jobs.create(\n",
        "    training_file = data_file.id,\n",
        "    model = \"gpt-3.5-turbo\",\n",
        "    hyperparameters={\n",
        "        \"n_epochs\": 1\n",
        "    }\n",
        ")\n",
        "fine_tuning_job"
      ]
    },
    {
      "cell_type": "markdown",
      "metadata": {
        "id": "u7XWcO_7kzY6"
      },
      "source": [
        "Let's retrieve the state of the fine-tune"
      ]
    },
    {
      "cell_type": "code",
      "execution_count": 15,
      "metadata": {
        "colab": {
          "base_uri": "https://localhost:8080/"
        },
        "id": "hpbHjWu3AS4k",
        "outputId": "d1a7caa6-521f-4964-b8a9-64de8aa72b1f"
      },
      "outputs": [
        {
          "name": "stdout",
          "output_type": "stream",
          "text": [
            "succeeded\n"
          ]
        }
      ],
      "source": [
        "retrieved_job = client.fine_tuning.jobs.retrieve(fine_tuning_job.id)\n",
        "status = retrieved_job.status\n",
        "print(status)"
      ]
    },
    {
      "cell_type": "markdown",
      "metadata": {
        "id": "4XB-sFc3kO4A"
      },
      "source": [
        "### Task 4 - Evaluate model"
      ]
    },
    {
      "cell_type": "markdown",
      "metadata": {
        "id": "p_3bNsW3k_eR"
      },
      "source": [
        "Let's retrieve the event messages to check out the learning process of our fine-tuning job."
      ]
    },
    {
      "cell_type": "code",
      "execution_count": 18,
      "metadata": {
        "colab": {
          "base_uri": "https://localhost:8080/"
        },
        "id": "O2bif68aIEGJ",
        "outputId": "5459c9bb-a8df-4f47-ecaa-4048b38fab02"
      },
      "outputs": [
        {
          "name": "stdout",
          "output_type": "stream",
          "text": [
            "The job has successfully completed\n",
            "New fine-tuned model created: ft:gpt-3.5-turbo-0125:personal::9dK2lRs2\n",
            "Step 67/67: training loss=0.06\n",
            "Step 66/67: training loss=0.16\n",
            "Step 65/67: training loss=0.34\n",
            "Step 64/67: training loss=0.21\n",
            "Step 63/67: training loss=0.09\n",
            "Step 62/67: training loss=0.04\n",
            "Step 61/67: training loss=0.11\n",
            "Step 60/67: training loss=0.13\n",
            "Step 59/67: training loss=0.04\n",
            "Step 58/67: training loss=0.24\n",
            "Step 57/67: training loss=0.06\n",
            "Step 56/67: training loss=0.06\n",
            "Step 55/67: training loss=0.36\n",
            "Step 54/67: training loss=0.13\n",
            "Step 53/67: training loss=0.08\n",
            "Step 52/67: training loss=0.11\n",
            "Step 51/67: training loss=0.10\n",
            "Step 50/67: training loss=0.27\n",
            "Step 49/67: training loss=0.08\n",
            "Step 48/67: training loss=0.44\n",
            "Step 47/67: training loss=0.14\n",
            "Step 46/67: training loss=0.47\n",
            "Step 45/67: training loss=0.10\n",
            "Step 44/67: training loss=0.28\n",
            "Step 43/67: training loss=0.11\n",
            "Step 42/67: training loss=0.12\n",
            "Step 41/67: training loss=0.14\n",
            "Step 40/67: training loss=0.14\n",
            "Step 39/67: training loss=0.10\n",
            "Step 38/67: training loss=0.65\n",
            "Step 37/67: training loss=0.13\n",
            "Step 36/67: training loss=0.89\n",
            "Step 35/67: training loss=0.09\n",
            "Step 34/67: training loss=1.01\n",
            "Step 33/67: training loss=0.17\n",
            "Step 32/67: training loss=0.22\n",
            "Step 31/67: training loss=0.19\n",
            "Step 30/67: training loss=1.22\n",
            "Step 29/67: training loss=0.10\n",
            "Step 28/67: training loss=0.33\n",
            "Step 27/67: training loss=0.09\n",
            "Step 26/67: training loss=1.11\n",
            "Step 25/67: training loss=1.19\n",
            "Step 24/67: training loss=0.25\n",
            "Step 23/67: training loss=0.23\n",
            "Step 22/67: training loss=0.26\n",
            "Step 21/67: training loss=0.68\n",
            "Step 20/67: training loss=0.17\n",
            "Step 19/67: training loss=0.21\n",
            "Step 18/67: training loss=0.29\n",
            "Step 17/67: training loss=0.07\n",
            "Step 16/67: training loss=0.34\n",
            "Step 15/67: training loss=0.18\n",
            "Step 14/67: training loss=0.18\n",
            "Step 13/67: training loss=0.61\n",
            "Step 12/67: training loss=0.47\n",
            "Step 11/67: training loss=0.29\n",
            "Step 10/67: training loss=0.55\n",
            "Step 9/67: training loss=1.90\n",
            "Step 8/67: training loss=0.12\n",
            "Step 7/67: training loss=2.53\n",
            "Step 6/67: training loss=0.37\n",
            "Step 5/67: training loss=0.75\n",
            "Step 4/67: training loss=1.17\n",
            "Step 3/67: training loss=1.07\n",
            "Step 2/67: training loss=1.13\n",
            "Step 1/67: training loss=1.05\n",
            "Fine-tuning job started\n",
            "Files validated, moving job to queued state\n",
            "Validating training file: file-L9AL1NNcRDaOjKc0fPJpvoOH\n",
            "Created fine-tuning job: ftjob-vkALK0VbEe1iLlBt4kgxs6sw\n"
          ]
        }
      ],
      "source": [
        "events = list(client.fine_tuning.jobs.list_events(fine_tuning_job_id = retrieved_job.id, limit = 100).data)\n",
        "for e in events:\n",
        "  print(e.message)"
      ]
    },
    {
      "cell_type": "markdown",
      "metadata": {
        "id": "Pe3jUJJjyeO1"
      },
      "source": [
        "Let's extract the training loss in each learning step"
      ]
    },
    {
      "cell_type": "code",
      "execution_count": 20,
      "metadata": {
        "colab": {
          "base_uri": "https://localhost:8080/"
        },
        "id": "oqhDoVBNzW_w",
        "outputId": "3064b6e8-38ca-4f53-f853-5a12ca1fbcc9"
      },
      "outputs": [
        {
          "name": "stdout",
          "output_type": "stream",
          "text": [
            "[67, 66, 65, 64, 63, 62, 61, 60, 59, 58, 57, 56, 55, 54, 53, 52, 51, 50, 49, 48, 47, 46, 45, 44, 43, 42, 41, 40, 39, 38, 37, 36, 35, 34, 33, 32, 31, 30, 29, 28, 27, 26, 25, 24, 23, 22, 21, 20, 19, 18, 17, 16, 15, 14, 13, 12, 11, 10, 9, 8, 7, 6, 5, 4, 3, 2, 1]\n",
            "[0.05646423250436783, 0.16098327934741974, 0.34059783816337585, 0.2062920480966568, 0.09214115142822266, 0.04494835063815117, 0.11103922873735428, 0.13017067313194275, 0.042802415788173676, 0.23677748441696167, 0.0636114701628685, 0.06017211824655533, 0.3607107698917389, 0.12548235058784485, 0.07770530879497528, 0.1063007190823555, 0.09740391373634338, 0.27242806553840637, 0.08367606997489929, 0.44492295384407043, 0.13785609602928162, 0.4704936742782593, 0.10362695157527924, 0.2804841697216034, 0.11047900468111038, 0.11603428423404694, 0.14097347855567932, 0.13997627794742584, 0.10319871455430984, 0.6467949151992798, 0.13194304704666138, 0.8850393891334534, 0.09301651269197464, 1.0066776275634766, 0.1682167798280716, 0.2182289958000183, 0.19277998805046082, 1.218643069267273, 0.1007063090801239, 0.3262905776500702, 0.09088844060897827, 1.1108300685882568, 1.1889328956604004, 0.24582569301128387, 0.2309577316045761, 0.2615489959716797, 0.6770440936088562, 0.1741463541984558, 0.2094319462776184, 0.29402121901512146, 0.06809364259243011, 0.3419436812400818, 0.17533881962299347, 0.1792147010564804, 0.6057763695716858, 0.47438836097717285, 0.2946706712245941, 0.5517911314964294, 1.8952642679214478, 0.12358137220144272, 2.5313878059387207, 0.36579328775405884, 0.7459918856620789, 1.1663932800292969, 1.073407769203186, 1.1312241554260254, 1.0493930578231812]\n"
          ]
        }
      ],
      "source": [
        "steps = []\n",
        "train_loss = []\n",
        "for e in events:\n",
        "  if(e.data):\n",
        "    steps.append(e.data['step'])\n",
        "    train_loss.append(e.data['train_loss'])\n",
        "\n",
        "print(steps)\n",
        "print(train_loss)"
      ]
    },
    {
      "cell_type": "markdown",
      "metadata": {
        "id": "iiiJIUuq2W4D"
      },
      "source": [
        "Use a line chart to visualize the train_loss in each step"
      ]
    },
    {
      "cell_type": "code",
      "execution_count": 22,
      "metadata": {
        "colab": {
          "base_uri": "https://localhost:8080/",
          "height": 472
        },
        "id": "EMRvEd-F2bLO",
        "outputId": "7e7b3eeb-2e69-4b86-d3c6-d4a6b18af5ff"
      },
      "outputs": [
        {
          "data": {
            "image/png": "[encoded data removed]",
            "text/plain": [
              "<Figure size 640x480 with 1 Axes>"
            ]
          },
          "metadata": {},
          "output_type": "display_data"
        }
      ],
      "source": [
        "plt.plot(steps, train_loss, marker= 'o', linestyle='-')\n",
        "plt.xlabel('Step')\n",
        "plt.ylabel('Train Loss')\n",
        "plt.title('Training Loss vs Step')\n",
        "plt.show()"
      ]
    },
    {
      "cell_type": "markdown",
      "metadata": {
        "id": "8lGyZnvk25q9"
      },
      "source": [
        "### Task 5 - Deploy our model"
      ]
    },
    {
      "cell_type": "markdown",
      "metadata": {
        "id": "EYljL-wH42ce"
      },
      "source": [
        "Let's take a look at `retrieved_job` again"
      ]
    },
    {
      "cell_type": "code",
      "execution_count": 25,
      "metadata": {
        "colab": {
          "base_uri": "https://localhost:8080/"
        },
        "id": "q4ChDCWo3H85",
        "outputId": "674dcef9-8f37-4cf9-f5fa-842a0bc03d05"
      },
      "outputs": [
        {
          "name": "stdout",
          "output_type": "stream",
          "text": [
            "ft:gpt-3.5-turbo-0125:personal::9dK2lRs2\n"
          ]
        }
      ],
      "source": [
        "myLLM = retrieved_job.fine_tuned_model\n",
        "print(myLLM)"
      ]
    },
    {
      "cell_type": "markdown",
      "metadata": {
        "id": "nLLfuwC4-h9K"
      },
      "source": [
        "Defining a method to extract information from a given user complaint using a specific LLM and return the results."
      ]
    },
    {
      "cell_type": "code",
      "execution_count": 23,
      "metadata": {
        "id": "P3_99_Hf5CV1"
      },
      "outputs": [],
      "source": [
        "def extract_details(user_complaint, model_name):\n",
        "    \"\"\"\n",
        "    This function extracts information from a given user complaint using a specific LLM (Large Language Model).\n",
        "\n",
        "    Parameters:\n",
        "    user_complaint (str): The text of the user's complaint.\n",
        "    model_name (str): The name of the specific LLM model to use for extraction.\n",
        "    \"\"\"\n",
        "\n",
        "    system_content = \"\"\"\n",
        "        Given a customer complaint text, extract and return the following information in JSON (dict) format:\n",
        "        - Topic\n",
        "        - Problem\n",
        "        - Customer_Dissatisfaction_Index\n",
        "    \"\"\"\n",
        "\n",
        "    # Generate a response using the specified model and the user's complaint\n",
        "    response = client.chat.completions.create(\n",
        "        model = model_name,\n",
        "        messages=[\n",
        "            {\"role\": \"system\", \"content\": system_content},  # System content explaining the expected output\n",
        "            {\"role\": \"user\", \"content\": user_complaint}  # User's complaint passed as content\n",
        "        ]\n",
        "    )\n",
        "\n",
        "    # Return the content of the generated response\n",
        "    return response.choices[0].message.content\n"
      ]
    },
    {
      "cell_type": "markdown",
      "metadata": {
        "id": "zE_O2zAwplof"
      },
      "source": [
        "Let's use our fine-tuned model to extract the details for the following user complaint:\n",
        "\n",
        "*TV channels keep disappearing from my subscription! What's going on? Extremely annoyed with this service!*"
      ]
    },
    {
      "cell_type": "code",
      "execution_count": 26,
      "metadata": {
        "colab": {
          "base_uri": "https://localhost:8080/",
          "height": 35
        },
        "id": "vD1dEjnzWTuw",
        "outputId": "98f4c5ae-5e2c-4b2f-c682-b51011e7f632"
      },
      "outputs": [
        {
          "data": {
            "application/vnd.google.colaboratory.intrinsic+json": {
              "type": "string"
            },
            "text/plain": [
              "'{\"Topic\": \"TV\", \"Problem\": \"Channels disappearing\", \"Customer_Dissatisfaction_Index\": \"High\"}'"
            ]
          },
          "execution_count": 26,
          "metadata": {},
          "output_type": "execute_result"
        }
      ],
      "source": [
        "complaint = \"TV channels keep disappearing from my subscription! What's going on? Extremely annoyed with this service!\"\n",
        "extract_details(complaint, myLLM)"
      ]
    },
    {
      "cell_type": "markdown",
      "metadata": {
        "id": "LJNgLZoS6-gw"
      },
      "source": [
        "Let's test our `GPT-4` model with the same user complaint"
      ]
    },
    {
      "cell_type": "code",
      "execution_count": 27,
      "metadata": {
        "colab": {
          "base_uri": "https://localhost:8080/",
          "height": 53
        },
        "id": "G2XBuw0N47AC",
        "outputId": "65561489-6f5a-48d7-d9a4-5fee0e7dcca1"
      },
      "outputs": [
        {
          "data": {
            "application/vnd.google.colaboratory.intrinsic+json": {
              "type": "string"
            },
            "text/plain": [
              "'{\\n  \"Topic\": \"TV Subscription\",\\n  \"Problem\": \"Channels disappearing from subscription\",\\n  \"Customer_Dissatisfaction_Index\": \"High\"\\n}'"
            ]
          },
          "execution_count": 27,
          "metadata": {},
          "output_type": "execute_result"
        }
      ],
      "source": [
        "extract_details(complaint, \"gpt-4\")"
      ]
    },
    {
      "cell_type": "markdown",
      "metadata": {
        "id": "J3xZBAUitpVq"
      },
      "source": [
        "Let's try for the following complaint:\n",
        "\n",
        "*Line is down! It is really annoying!*"
      ]
    },
    {
      "cell_type": "code",
      "execution_count": 29,
      "metadata": {
        "colab": {
          "base_uri": "https://localhost:8080/",
          "height": 35
        },
        "id": "I3O6HzK_ttZ7",
        "outputId": "37e83dff-69cc-44ca-e199-16d5f21f0d18"
      },
      "outputs": [
        {
          "data": {
            "application/vnd.google.colaboratory.intrinsic+json": {
              "type": "string"
            },
            "text/plain": [
              "'{\"Topic\": \"Network/Connectivity\", \"Problem\": \"Line down\", \"Customer_Dissatisfaction_Index\": 5}'"
            ]
          },
          "execution_count": 29,
          "metadata": {},
          "output_type": "execute_result"
        }
      ],
      "source": [
        "extract_details(\"Line is down! It is really annoying!\", myLLM)"
      ]
    },
    {
      "cell_type": "markdown",
      "metadata": {
        "id": "W4zeLRZfuNmS"
      },
      "source": [
        "Now let's compare the results from GPT-4"
      ]
    },
    {
      "cell_type": "code",
      "execution_count": 30,
      "metadata": {
        "colab": {
          "base_uri": "https://localhost:8080/",
          "height": 35
        },
        "id": "6ubUkjXXuQ8X",
        "outputId": "e11be311-28b9-421d-e9d2-88c61e7cc174"
      },
      "outputs": [
        {
          "data": {
            "application/vnd.google.colaboratory.intrinsic+json": {
              "type": "string"
            },
            "text/plain": [
              "'{\\n  \"Topic\": \"Line Issues\",\\n  \"Problem\": \"Line is down\",\\n  \"Customer_Dissatisfaction_Index\": \"High\"\\n}'"
            ]
          },
          "execution_count": 30,
          "metadata": {},
          "output_type": "execute_result"
        }
      ],
      "source": [
        "extract_details(\"Line is down! It is really annoying!\", \"gpt-4\")"
      ]
    },
    {
      "cell_type": "markdown",
      "metadata": {
        "id": "YvqSymjWueXu"
      },
      "source": [
        "We can see that our model, which is trained on our dataset, provides better answers compared to GPT-4. Our model is fine-tuned based on our data and is familiar with the different edge cases and the context of our dataset."
      ]
    },
    {
      "cell_type": "code",
      "execution_count": 31,
      "metadata": {
        "colab": {
          "base_uri": "https://localhost:8080/",
          "height": 35
        },
        "id": "wVQQfAAXy-v8",
        "outputId": "b1b04195-d0ee-4862-dcad-c5abae414988"
      },
      "outputs": [
        {
          "data": {
            "application/vnd.google.colaboratory.intrinsic+json": {
              "type": "string"
            },
            "text/plain": [
              "'{\"Topic\": \"Billing\", \"Problem\": \"Refund delay\", \"Customer_Dissatisfaction_Index\": 10}'"
            ]
          },
          "execution_count": 31,
          "metadata": {},
          "output_type": "execute_result"
        }
      ],
      "source": [
        "customer_complaint = \"I am very Angry! I want my money back!\"\n",
        "extract_details(customer_complaint, myLLM)"
      ]
    }
  ],
  "metadata": {
    "colab": {
      "provenance": []
    },
    "kernelspec": {
      "display_name": "Python 3",
      "name": "python3"
    },
    "language_info": {
      "name": "python"
    }
  },
  "nbformat": 4,
  "nbformat_minor": 0
}
